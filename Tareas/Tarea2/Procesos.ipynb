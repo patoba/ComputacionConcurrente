{
 "cells": [
  {
   "cell_type": "code",
   "execution_count": 1,
   "metadata": {
    "id": "kPDd_M416jtg"
   },
   "outputs": [],
   "source": [
    "import multiprocessing as mp\n",
    "from string import ascii_uppercase\n",
    "import random\n",
    "from sys import stdout"
   ]
  },
  {
   "cell_type": "markdown",
   "metadata": {
    "id": "mg3ZIdy234VM"
   },
   "source": [
    "**OBJETIVO:**\n",
    "\n",
    "El objetivo de esta tarea consiste en poner en práctica los conceptos de cómputo concurrente vistos en clase. Se utilizarán procesos por medio del módulo `multiprocessing` del lenguaje de programación Python."
   ]
  },
  {
   "cell_type": "markdown",
   "metadata": {
    "id": "Bl-5iBIj7vqO"
   },
   "source": [
    "## Programa 1"
   ]
  },
  {
   "cell_type": "markdown",
   "metadata": {
    "id": "9WdTV3R32cRb"
   },
   "source": [
    "1. Realiza el **Programa1** que instancie, como clase o con el método `Process`, 10 procesos. Cada uno de los procesos hijos recibirán un valor entero, y un caracter $(i,c)$ enviados por el proceso padre, los procesos escribirán en la salida estándar $i$ veces el caracter $c$."
   ]
  },
  {
   "cell_type": "code",
   "execution_count": 2,
   "metadata": {
    "id": "ApuSZo876lqd"
   },
   "outputs": [],
   "source": [
    "def imprimir_mensaje(i, c):\n",
    "    for _ in range(i):\n",
    "        stdout.write(c)"
   ]
  },
  {
   "cell_type": "code",
   "execution_count": 3,
   "metadata": {
    "colab": {
     "base_uri": "https://localhost:8080/"
    },
    "id": "xmbH7_fw7Ik8",
    "outputId": "eabfc7d9-abe5-4ee2-deca-9cf0e5e0c130"
   },
   "outputs": [
    {
     "name": "stdout",
     "output_type": "stream",
     "text": [
      "AACCACDDCBDBIDIEBDEBBBIGIFGJGEGFHHIIJFHJEFHH"
     ]
    }
   ],
   "source": [
    "num_procesos = 10\n",
    "for i in range(num_procesos):\n",
    "    c = ascii_uppercase[i]\n",
    "    it = random.randint(3, 6)\n",
    "    proceso = mp.Process(target=imprimir_mensaje, args=(it, c))\n",
    "    proceso.start()"
   ]
  },
  {
   "cell_type": "markdown",
   "metadata": {
    "id": "R4Kw4LBE7zb4"
   },
   "source": [
    "## Programa 2"
   ]
  },
  {
   "cell_type": "markdown",
   "metadata": {
    "id": "3UYjogKy2rot"
   },
   "source": [
    "2. Refactoriza (reescribe) el programa anterior y elabora el **Programa2** que incluya un mecanismo de sincronización el cual permita escribir en orden todos los caracteres de cada proceso. Es decir, que se obtenga la secuencia $c_{1,1},\\ldots,c_{i,1},c_{2,1},\\ldots,c_{2,i},\\ldots,c_{10,1},\\ldots,c_{10,i}$, donde cada subsecuencia $c_{k,i}$ para cada $k=1,2,\\ldots,10$ es la secuencia de caracteres del proceso hijo $k$ con longitud $i$."
   ]
  },
  {
   "cell_type": "code",
   "execution_count": 4,
   "metadata": {
    "id": "0RywVeBI95-s"
   },
   "outputs": [],
   "source": [
    "mutex = mp.Lock()"
   ]
  },
  {
   "cell_type": "code",
   "execution_count": 5,
   "metadata": {
    "id": "W92sZPrZ7yxK"
   },
   "outputs": [],
   "source": [
    "def imprimir_mensaje(i, c):\n",
    "    mutex.acquire()\n",
    "    for _ in range(i):\n",
    "        stdout.write(c)\n",
    "    mutex.release()"
   ]
  },
  {
   "cell_type": "code",
   "execution_count": 6,
   "metadata": {
    "colab": {
     "base_uri": "https://localhost:8080/"
    },
    "id": "tlR5CNJN7T2g",
    "outputId": "c8be21bb-0326-4884-e493-b1b186e2604f"
   },
   "outputs": [
    {
     "name": "stdout",
     "output_type": "stream",
     "text": [
      "AAABBBBBBCCCCCDDDEEEEEEFFFFGGGGHHHHIIIIIIJJJJJJ"
     ]
    }
   ],
   "source": [
    "num_procesos = 10\n",
    "for i in range(num_procesos):\n",
    "    c = ascii_uppercase[i]\n",
    "    it = random.randint(3, 6)\n",
    "    proceso = mp.Process(target=imprimir_mensaje, args=(it, c))\n",
    "    proceso.start()"
   ]
  },
  {
   "cell_type": "markdown",
   "metadata": {
    "id": "y-IvLmbp_DgI"
   },
   "source": [
    "## Programa 3"
   ]
  },
  {
   "cell_type": "markdown",
   "metadata": {
    "id": "bl8NPOIT3Teg"
   },
   "source": [
    "Refactoriza (reescribe) el Programa2 y elabora el **Programa3** donde construyas un mecanismo de sincronización el cual permita escribir en orden todos los caracteres de cada proceso siguiendo una política de orden $p$ que será una lista de números enteros aleatorios con los índices $k$ de cada proceso hijo. La esccritura de los caracteres seguirá la secuencia de $c_{k,i}(p)$ donde cada secuencia $c_{k,i}$ estará definida por la política $p$."
   ]
  },
  {
   "cell_type": "code",
   "execution_count": 7,
   "metadata": {
    "id": "wJYEUA7ayL3s"
   },
   "outputs": [],
   "source": [
    "def imprimir_mensaje(i, c, turno):\n",
    "    turn = q.get()\n",
    "    while True:\n",
    "        mutex.acquire()\n",
    "        if (turno.value == turn): # Si es el turno adecuado\n",
    "            stdout.write(\"El turno de \" +  str(c) + \" es \" + str(turn) + \". Se imprimirá \" + str(i) + \" veces\\n\")\n",
    "            for _ in range(i):\n",
    "                stdout.write(c)\n",
    "            stdout.write(\"\\n\")\n",
    "            turno.value = turno.value + 1\n",
    "            mutex.release()\n",
    "            break\n",
    "        mutex.release()"
   ]
  },
  {
   "cell_type": "code",
   "execution_count": 8,
   "metadata": {
    "colab": {
     "base_uri": "https://localhost:8080/"
    },
    "id": "LLaGJmwT3vu1",
    "outputId": "e8cab3a4-4971-477a-c256-029738923863"
   },
   "outputs": [
    {
     "name": "stdout",
     "output_type": "stream",
     "text": [
      "La politica de orden es:  [1, 0, 6, 2, 4, 3, 7, 5, 9, 8]\n",
      "El turno de B es 0. Se imprimirá 3 veces\n",
      "BBB\n",
      "El turno de A es 1. Se imprimirá 3 veces\n",
      "AAA\n",
      "El turno de E es 2. Se imprimirá 3 veces\n",
      "EEE\n",
      "El turno de G es 3. Se imprimirá 3 veces\n",
      "GGG\n",
      "El turno de C es 4. Se imprimirá 5 veces\n",
      "CCCCC\n",
      "El turno de I es 5. Se imprimirá 3 veces\n",
      "III\n",
      "El turno de D es 6. Se imprimirá 3 veces\n",
      "DDD\n",
      "El turno de F es 7. Se imprimirá 6 veces\n",
      "FFFFFF\n",
      "El turno de J es 8. Se imprimirá 6 veces\n",
      "JJJJJJ\n",
      "El turno de H es 9. Se imprimirá 4 veces\n",
      "HHHH\n"
     ]
    }
   ],
   "source": [
    "mutex = mp.Lock()\r\n",
    "\r\n",
    "# Politica de orden\r\n",
    "p = list(range(10))\r\n",
    "random.shuffle(p)\r\n",
    "print('La politica de orden es: ', p)\r\n",
    "\r\n",
    "q = mp.Queue()\r\n",
    "for num in p:\r\n",
    "    q.put(num)\r\n",
    "\r\n",
    "num_procesos = 10\r\n",
    "turno = mp.Value('i', 0) # Definimos un valor entero para llevar los turnos\r\n",
    "procesos = [None]*num_procesos\r\n",
    "\r\n",
    "for i in range(num_procesos):\r\n",
    "    c = ascii_uppercase[i]\r\n",
    "    it = random.randint(3, 6)\r\n",
    "    proceso = mp.Process(target=imprimir_mensaje, args=(it, c, turno))\r\n",
    "    procesos[i] = proceso\r\n",
    "\r\n",
    "for p in procesos:\r\n",
    "    p.start()"
   ]
  },
  {
   "cell_type": "code",
   "execution_count": null,
   "metadata": {
    "id": "hriWpLWe4HMf"
   },
   "outputs": [],
   "source": []
  }
 ],
 "metadata": {
  "colab": {
   "collapsed_sections": [],
   "name": "Tarea2.ipynb",
   "provenance": []
  },
  "kernelspec": {
   "display_name": "Python 3",
   "language": "python",
   "name": "python3"
  },
  "language_info": {
   "codemirror_mode": {
    "name": "ipython",
    "version": 3
   },
   "file_extension": ".py",
   "mimetype": "text/x-python",
   "name": "python",
   "nbconvert_exporter": "python",
   "pygments_lexer": "ipython3",
   "version": "3.8.6"
  }
 },
 "nbformat": 4,
 "nbformat_minor": 4
}
