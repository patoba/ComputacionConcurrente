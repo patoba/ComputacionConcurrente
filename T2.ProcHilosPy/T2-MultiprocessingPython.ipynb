{
 "cells": [
  {
   "cell_type": "markdown",
   "metadata": {},
   "source": [
    "# Computo concurrente\n",
    "\n",
    "## Multiprocessing"
   ]
  },
  {
   "cell_type": "markdown",
   "metadata": {},
   "source": [
    "El modulo 'multiprocessing' de Python permite la manipulacion y sincronizacion de procesos, tambien ofrece concurrencia local como remota.\n",
    "\n",
    "Ejemplo de motivacion..."
   ]
  },
  {
   "cell_type": "code",
   "execution_count": 25,
   "metadata": {},
   "outputs": [
    {
     "name": "stdout",
     "output_type": "stream",
     "text": [
      "Calcula el cuadrado:\n",
      "cuadrado: 0\n",
      "cuadrado: 1\n",
      "cuadrado: 4\n",
      "cuadrado: 9\n",
      "cuadrado: 16\n",
      "cuadrado: 25\n",
      "cuadrado: 36\n",
      "cuadrado: 49\n",
      "cuadrado: 64\n",
      "cuadrado: 81\n",
      "Calcula el cubo:\n",
      "cubo: 0\n",
      "cubo: 1\n",
      "cubo: 8\n",
      "cubo: 27\n",
      "cubo: 64\n",
      "cubo: 125\n",
      "cubo: 216\n",
      "cubo: 343\n",
      "cubo: 512\n",
      "cubo: 729\n",
      "Finaliza la ejecucion\n",
      "Tiempo de ejecucion 4.024327278137207\n"
     ]
    }
   ],
   "source": [
    "import time\n",
    "def calc_cuad(numeros):\n",
    "    print('Calcula el cuadrado:')\n",
    "    for n in numeros:\n",
    "        time.sleep(0.2)\n",
    "        print('cuadrado:', n*n)\n",
    "def calc_cubo(numeros):\n",
    "    print('Calcula el cubo:')\n",
    "    for n in numeros:\n",
    "        time.sleep(0.2)\n",
    "        print('cubo:', n*n*n)\n",
    "        \n",
    "nums = range(10)\n",
    "\n",
    "t = time.time()\n",
    "calc_cuad(nums)\n",
    "calc_cubo(nums)\n",
    "\n",
    "print('Finaliza la ejecucion')\n",
    "print('Tiempo de ejecucion', time.time()-t)"
   ]
  },
  {
   "cell_type": "markdown",
   "metadata": {},
   "source": [
    "Una manera sencilla de generar procesos en Python es por medio de la creacion del objeto `Process` y llamarlo por medio del metodo `start()`."
   ]
  },
  {
   "cell_type": "code",
   "execution_count": 19,
   "metadata": {},
   "outputs": [
    {
     "name": "stdout",
     "output_type": "stream",
     "text": [
      "Hola Saul\n"
     ]
    }
   ],
   "source": [
    "import multiprocessing as mp\n",
    "\n",
    "def tarea(nombre):\n",
    "    print('Hola', nombre)\n",
    "    for n in range(10000):\n",
    "        n**(1/(n+1))\n",
    "    \n",
    "if __name__ == '__main__':  # Esta condicion se interpreta como una verificacion de si este proceso es el principal\n",
    "    p = mp.Process(target=tarea, args=('Saul', )) ## Ejecuta la funcion tarea con el los argumentos de args\n",
    "    p.start() ## Ejecuta p el objeto multiprocess \n",
    "    p.join()"
   ]
  },
  {
   "cell_type": "code",
   "execution_count": 24,
   "metadata": {},
   "outputs": [
    {
     "name": "stdout",
     "output_type": "stream",
     "text": [
      "Calcula el cuadrado:\n",
      "Calcula el cubo:\n",
      "cuadrado: cubo:0 \n",
      "0\n",
      "cuadrado: cubo:1 \n",
      "1\n",
      "cuadrado:cubo:  48\n",
      "\n",
      "cuadrado:cubo:  927\n",
      "\n",
      "cuadrado: cubo:16 \n",
      "64\n",
      "cuadrado: cubo:25\n",
      " 125\n",
      "cuadrado: 36\n",
      "cubo: 216\n",
      "cuadrado: 49\n",
      "cubo: 343\n",
      "cuadrado: 64\n",
      "cubo: 512\n",
      "cuadrado: 81\n",
      "cubo: 729\n",
      "Tiempo de ejecucion 2.1406450271606445\n",
      "Finaliza la ejecucion\n"
     ]
    }
   ],
   "source": [
    "import multiprocessing as mp\n",
    "import time\n",
    "\n",
    "\n",
    "def calc_cuad(numeros):\n",
    "    print('Calcula el cuadrado:')\n",
    "    for n in numeros:\n",
    "        time.sleep(0.2)\n",
    "        print('cuadrado:', n*n)\n",
    "def calc_cubo(numeros):\n",
    "    print('Calcula el cubo:')\n",
    "    for n in numeros:\n",
    "        time.sleep(0.2)\n",
    "        print('cubo:', n*n*n)\n",
    "        \n",
    "nums = range(10)\n",
    "\n",
    "\n",
    "t1 = time.time()\n",
    "\n",
    "p1 = mp.Process(target=calc_cuad, args=(nums,))\n",
    "p2 = mp.Process(target=calc_cubo, args=(nums,))\n",
    "\n",
    "p1.start()\n",
    "p2.start()\n",
    "p1.join()\n",
    "p2.join()\n",
    "\n",
    "\n",
    "print('Tiempo de ejecucion', time.time()-t1)\n",
    "print('Finaliza la ejecucion')"
   ]
  },
  {
   "cell_type": "markdown",
   "metadata": {},
   "source": [
    "## Tarea \n",
    "\n",
    "Investiga en la documentacion del modulo `Multiprocessing` cual es su funcionamiento y todos los metodos o funciones que estan implementados en el."
   ]
  },
  {
   "cell_type": "markdown",
   "metadata": {},
   "source": [
    "## Identificadores  PID, PPID"
   ]
  },
  {
   "cell_type": "code",
   "execution_count": 8,
   "metadata": {},
   "outputs": [
    {
     "name": "stdout",
     "output_type": "stream",
     "text": [
      "Nombre del proceso: __main__\n",
      "Proceso padre: 7448\n",
      "Proceso actual: 8016\n"
     ]
    }
   ],
   "source": [
    "import multiprocessing as mp\n",
    "import os\n",
    "\n",
    "print('Nombre del proceso:', __name__)\n",
    "print('Proceso padre:', os.getppid())\n",
    "print('Proceso actual:', os.getpid())"
   ]
  },
  {
   "cell_type": "code",
   "execution_count": 17,
   "metadata": {},
   "outputs": [
    {
     "name": "stdout",
     "output_type": "stream",
     "text": [
      "Inicio\n",
      "Nombre del proceso: __main__\n",
      "Proceso padre: 7448\n",
      "Proceso actual: 8016\n",
      "Funcion f\n",
      "Nombre del proceso: __main__\n",
      "Proceso padre: 8016\n",
      "Proceso actual: 9690\n",
      "Hola Valeriano\n",
      "------------\n"
     ]
    }
   ],
   "source": [
    "import multiprocessing as mp\n",
    "import os\n",
    "\n",
    "def info(titulo):\n",
    "    print(titulo)\n",
    "    print('Nombre del proceso:', __name__)\n",
    "    print('Proceso padre:', os.getppid())\n",
    "    print('Proceso actual:', os.getpid())\n",
    "\n",
    "def f(nombre):\n",
    "    info('Funcion f')\n",
    "    print('Hola', nombre)\n",
    "    print('------------')\n",
    "    \n",
    "info('Inicio')\n",
    "\n",
    "p = mp.Process(target = f, args=('Valeriano',))\n",
    "p.start()\n",
    "p.join()"
   ]
  },
  {
   "cell_type": "markdown",
   "metadata": {},
   "source": [
    "## Ejercicio\n",
    "\n",
    "Crea 3 procesos hijos, donde:\n",
    "- El primero multiplique 3 numeros (a,b,c)\n",
    "- El segundo sume (a,b,c)\n",
    "- El tercero haga (a+b)/c\n",
    "- Todos devolveran el valor calculado, el nombre de cada proceso hijo y el id del proceso padre."
   ]
  },
  {
   "cell_type": "code",
   "execution_count": 23,
   "metadata": {},
   "outputs": [
    {
     "name": "stdout",
     "output_type": "stream",
     "text": [
      "Inicio\n",
      "Nombre del proceso: __main__\n",
      "Proceso actual: 8016\n",
      "Proceso padre: 7448\n",
      "a*b*c =\n",
      "Nombre del proceso: __main__\n",
      "Proceso actual: 10829\n",
      "Proceso padre: 8016\n",
      "15\n",
      "a+b+c =\n",
      "Nombre del proceso: __main__\n",
      "Proceso actual: 10862\n",
      "Proceso padre: 8016\n",
      "9\n",
      "(a+b)/c =\n",
      "Nombre del proceso: __main__\n",
      "Proceso actual: 10895\n",
      "Proceso padre: 8016\n",
      "8.0\n"
     ]
    }
   ],
   "source": [
    "import multiprocessing as mp\n",
    "import os\n",
    "\n",
    "def info(titulo):\n",
    "    print(titulo)\n",
    "    print('Nombre del proceso:', __name__)\n",
    "    print('Proceso actual:', os.getpid())\n",
    "    print('Proceso padre:', os.getppid())\n",
    "    \n",
    "\n",
    "def primero(a,b,c):\n",
    "    info('a*b*c =')\n",
    "    print(a*b*c)\n",
    "    \n",
    "def segundo(a,b,c):\n",
    "    info('a+b+c =')\n",
    "    print(a+b+c)\n",
    "    \n",
    "def tercero(a,b,c):\n",
    "    info('(a+b)/c =')\n",
    "    print((a+b)/c)\n",
    "    \n",
    "info('Inicio')\n",
    "\n",
    "\n",
    "a = 3\n",
    "b = 5\n",
    "c = 1\n",
    "\n",
    "p1 = mp.Process(target = primero, args=(a,b,c))\n",
    "p2 = mp.Process(target = segundo, args=(a,b,c))\n",
    "p3 = mp.Process(target = tercero, args=(a,b,c))\n",
    "\n",
    "p1.start()\n",
    "p1.join()\n",
    "p2.start()\n",
    "p2.join()\n",
    "p3.start()\n",
    "p3.join()"
   ]
  },
  {
   "cell_type": "code",
   "execution_count": 28,
   "metadata": {},
   "outputs": [
    {
     "name": "stdout",
     "output_type": "stream",
     "text": [
      "Cuadrado: 0\n",
      "Cuadrado: 1\n",
      "Cuadrado: 4\n",
      "Cuadrado: 9\n",
      "Cuadrado: 16\n",
      "Cuadrado: 25\n",
      "Cuadrado: 36\n",
      "Cuadrado: 49\n",
      "Cuadrado: 64\n",
      "Cuadrado: 81\n",
      "Tiempo de ejecucion:  0.04141974449157715\n",
      "Resultado del proceso: []\n",
      "Finaliza ejecucion\n"
     ]
    }
   ],
   "source": [
    "import time\n",
    "\n",
    "nums_res = []\n",
    "\n",
    "def calc_cuad(numeros):\n",
    "    global nums_res\n",
    "    for n in numeros:\n",
    "        print('Cuadrado:', n*n)\n",
    "        nums_res.append(n*n)\n",
    "        \n",
    "        \n",
    "nums = range(10)\n",
    "t = time.time()\n",
    "p1 =  mp.Process(target=calc_cuad, args = (nums,))\n",
    "\n",
    "\n",
    "p1.start()\n",
    "p1.join()\n",
    "\n",
    "print('Tiempo de ejecucion: ', time.time()-t)\n",
    "print('Resultado del proceso:', nums_res)\n",
    "print('Finaliza ejecucion')"
   ]
  },
  {
   "cell_type": "markdown",
   "metadata": {},
   "source": [
    "# 2020-10-27\n",
    "\n",
    "## Nombres y terminación de procesos"
   ]
  },
  {
   "cell_type": "code",
   "execution_count": 1,
   "metadata": {},
   "outputs": [
    {
     "data": {
      "text/plain": [
       "8"
      ]
     },
     "execution_count": 1,
     "metadata": {},
     "output_type": "execute_result"
    }
   ],
   "source": [
    "import multiprocessing\n",
    "multiprocessing.cpu_count()"
   ]
  },
  {
   "cell_type": "markdown",
   "metadata": {},
   "source": [
    "Con el método `cpu_count()"
   ]
  },
  {
   "cell_type": "code",
   "execution_count": 2,
   "metadata": {},
   "outputs": [
    {
     "name": "stdout",
     "output_type": "stream",
     "text": [
      "Proceso Padre PID: 6703\n",
      "Proceso HIJO con PID: 7714\n",
      "Fin del proceso hijo\n"
     ]
    }
   ],
   "source": [
    "import time\n",
    "def TareaHijo():\n",
    "    print(\"Proceso HIJO con PID: {}\".format(multiprocessing.current_process().pid))\n",
    "    time.sleep(3)\n",
    "    print(\"Fin del proceso hijo\")\n",
    "def main():\n",
    "    print(\"Proceso Padre PID: {}\".format(multiprocessing.current_process().pid))\n",
    "    myProcess = multiprocessing.Process(target=TareaHijo) # Define el objeto myProcess como el objeto que llam[a al proceso]\n",
    "    myProcess.start()\n",
    "    myProcess.join()\n",
    "# Se acostumbra usar la variable __name__\n",
    "# para hacer la ejecución desde el progragrama\n",
    "# principal, puede omitirse en los notebooks \n",
    "if __name__ == '__main__':\n",
    "    main()"
   ]
  },
  {
   "cell_type": "markdown",
   "metadata": {},
   "source": [
    "Es posible asignar un nombre a un proceso hijo que ha sido creado, por medio del medio del argumento `name` se asigna el nombre del proceso hijo."
   ]
  },
  {
   "cell_type": "code",
   "execution_count": 4,
   "metadata": {},
   "outputs": [
    {
     "name": "stdout",
     "output_type": "stream",
     "text": [
      "Proceso con nombre: Proceso-LCD-cc\n"
     ]
    }
   ],
   "source": [
    "def myProcess():\n",
    "    print(\"Proceso con nombre: {}\".format(multiprocessing.current_process().name))  ## Metodo current process para obtener el nombre del proceso\n",
    "    \n",
    "def main():\n",
    "    childProcess = multiprocessing.Process(target=myProcess, name='Proceso-LCD-cc')\n",
    "    childProcess.start()\n",
    "    childProcess.join()\n",
    "    \n",
    "main()"
   ]
  },
  {
   "cell_type": "code",
   "execution_count": 13,
   "metadata": {},
   "outputs": [
    {
     "name": "stdout",
     "output_type": "stream",
     "text": [
      "Starting process Worker 1...\n",
      "Starting process Worker 2...\n",
      "Starting process Process-23...\n",
      "Exiting process Worker 1...\n",
      "Exiting process Process-23...\n",
      "Exiting process Worker 2...\n"
     ]
    }
   ],
   "source": [
    "from multiprocessing import Process, current_process\n",
    "import time\n",
    "\n",
    "\n",
    "def f1():\n",
    "    pname = current_process().name\n",
    "    print('Starting process %s...' % pname)\n",
    "    time.sleep(2)\n",
    "    print('Exiting process %s...' % pname)\n",
    "    \n",
    "    \n",
    "\n",
    "def f2():\n",
    "    pname = current_process().name\n",
    "    print('Starting process %s...' % pname)\n",
    "    time.sleep(4)\n",
    "    print('Exiting process %s...' % pname)\n",
    "    \n",
    "    \n",
    "if __name__ == '__main__':\n",
    "    p1 = Process(name='Worker 1', target=f1)\n",
    "    p2 = Process(name='Worker 2', target=f2)\n",
    "    p3 = Process(target=f1)\n",
    "    p1.start()\n",
    "    p2.start()\n",
    "    p3.start()\n",
    "    \n",
    "    p1.join()\n",
    "    p2.join()\n",
    "    p3.join()"
   ]
  },
  {
   "cell_type": "code",
   "execution_count": 42,
   "metadata": {},
   "outputs": [
    {
     "name": "stdout",
     "output_type": "stream",
     "text": [
      "Procesos Hijo PID: 8953\n",
      "Proceso Padre ha terminado, termina el proceso main\n",
      "Terminando el proceso Hijo...\n",
      "Proceso Hijo ha terminado exitosamente\n"
     ]
    }
   ],
   "source": [
    "def TareaProceso():\n",
    "    proceso_actual = multiprocessing.current_process()\n",
    "    print(\"Procesos Hijo PID: {}\".format(proceso_actual.pid))\n",
    "    time.sleep(20)\n",
    "    proceso_actual = multiprocessing.current_process()\n",
    "    print(\"Procesos Padre PID: {}\".format(proceso_actual.pid))\n",
    "    \n",
    "miProceso = multiprocessing.Process(target=TareaProceso)\n",
    "miProceso.start()\n",
    "\n",
    "\n",
    "\n",
    "print(\"Proceso Padre ha terminado, termina el proceso main\")\n",
    "print(\"Terminando el proceso Hijo...\")\n",
    "time.sleep(1)\n",
    "miProceso.terminate()\n",
    "#miProceso.join()\n",
    "print(\"Proceso Hijo ha terminado exitosamente\")\n"
   ]
  },
  {
   "cell_type": "code",
   "execution_count": 107,
   "metadata": {},
   "outputs": [
    {
     "data": {
      "text/plain": [
       "8"
      ]
     },
     "execution_count": 107,
     "metadata": {},
     "output_type": "execute_result"
    }
   ],
   "source": [
    "multiprocessing.cpu_count()"
   ]
  },
  {
   "cell_type": "markdown",
   "metadata": {},
   "source": [
    "### Ejercicio:\n",
    "\n",
    "1. Vamos a crear 3 procesos los cuales tendrán nombre y  código definido como funP1, funP2, funP3. Cada hijo escribirá su nombre, su PID y el PID del padre, además de hacer un cálculo sobre tres valores a, b y c.\n",
    "2. El proceso 1  calcula a*b + c, el proceso 2 calcula a*b*c y el proceso 3 calcula (a*b)/c\n",
    "3. Crea un mecanismo para terminar alguno de los procesos de manera aleatoria."
   ]
  },
  {
   "cell_type": "code",
   "execution_count": 125,
   "metadata": {},
   "outputs": [
    {
     "name": "stdout",
     "output_type": "stream",
     "text": [
      "Nombre del proceso: funP2...\n",
      "a*b*c =\n",
      "Proceso actual: 15004\n",
      "Proceso padre: 6703\n",
      "15\n",
      "Nombre del proceso: funP1...\n",
      "a*b + c =\n",
      "Proceso actual: 15003\n",
      "Proceso padre: 6703\n",
      "16\n"
     ]
    }
   ],
   "source": [
    "import multiprocessing as mp\n",
    "import os\n",
    "import random\n",
    "\n",
    "def info(titulo):\n",
    "    pname = current_process().name\n",
    "    print('Nombre del proceso: %s...' % pname)\n",
    "    print(titulo)\n",
    "    print('Proceso actual:', os.getpid())\n",
    "    print('Proceso padre:', os.getppid())\n",
    "    \n",
    "\n",
    "def funP1(a,b,c):\n",
    "    info('a*b + c =')\n",
    "    print(a*b + c)\n",
    "    \n",
    "def funP2(a,b,c):\n",
    "    info('a*b*c =')\n",
    "    print(a*b*c)\n",
    "    \n",
    "def funP3(a,b,c):\n",
    "    info('(a+b)/c =')\n",
    "    print((a+b)/c)\n",
    "\n",
    "\n",
    "a = 3\n",
    "b = 5\n",
    "c = 1\n",
    "\n",
    "p1 = mp.Process(name = 'funP1',target = funP1, args=(a,b,c))\n",
    "p2 = mp.Process(name = 'funP2',target = funP2, args=(a,b,c))\n",
    "p3 = mp.Process(name = 'funP3',target = funP3, args=(a,b,c))\n",
    "\n",
    "\n",
    "p1.start()\n",
    "p2.start()\n",
    "p3.start()\n",
    "\n",
    "i = random.randint(1,3)\n",
    "\n",
    "if i==1:\n",
    "    p1.terminate()\n",
    "elif i == 2:\n",
    "    p2.terminate()\n",
    "elif i == 3:\n",
    "    p3.terminate()\n",
    "\n",
    "\n",
    "p1.join()\n",
    "p2.join()\n",
    "p3.join()"
   ]
  },
  {
   "cell_type": "markdown",
   "metadata": {},
   "source": [
    "No obstante , a veces se requiere crear procesos que corran en silencio (*background*) y no bloquear el proceso principal al finalizarlos. Esta especificación es comunmente utilizada cuando el proceso principal no tiene la certeza de interrumpir un proceso después de esperar cierto tiempo o finalizar sin que haya terminado el proceso hijo sin afectaciones al resultado final\n",
    "\n",
    "Estos procesos se llaman **Procesos demonio** (*daemon processes*). Por medio del atributo `daemon` del método `Process` se crea un proceso de este tipo.\n",
    "\n",
    "El valor por defecto del atributo `daemon` es False, por tanto se establece a `True`para crear el proceso demonio."
   ]
  },
  {
   "cell_type": "code",
   "execution_count": 131,
   "metadata": {},
   "outputs": [
    {
     "name": "stdout",
     "output_type": "stream",
     "text": [
      "Starting process Worker 1, ID 15700....\n",
      "Starting process Worker 2, ID 15705....\n",
      "Starting process Worker 2, ID 15705....\n",
      "Starting process Worker 1, ID, 15700....\n"
     ]
    }
   ],
   "source": [
    "from multiprocessing import Process, current_process\n",
    "import time\n",
    "\n",
    "def f1():\n",
    "    p = current_process()\n",
    "    print('Starting process %s, ID %s....' %(p.name, p.pid))\n",
    "    time.sleep(8)\n",
    "    print('Starting process %s, ID, %s....' %(p.name, p.pid))\n",
    "    \n",
    "def f2():\n",
    "    p = current_process()\n",
    "    print('Starting process %s, ID %s....' %(p.name, p.pid))\n",
    "    time.sleep(2)\n",
    "    print('Starting process %s, ID %s....' %(p.name, p.pid))\n",
    "    \n",
    "    \n",
    "if __name__ == '__main__':\n",
    "    p1 = Process(name='Worker 1', target=f1)\n",
    "    p1.daemon = True\n",
    "    p2 = Process(name='Worker 2', target=f2)\n",
    "    \n",
    "    p1.start()\n",
    "    time.sleep(1)\n",
    "    p2.start()\n",
    "    \n",
    "   # p1.join()\n",
    "   # p2.join()\n",
    "   # p3.join()"
   ]
  },
  {
   "cell_type": "code",
   "execution_count": null,
   "metadata": {},
   "outputs": [],
   "source": []
  }
 ],
 "metadata": {
  "kernelspec": {
   "display_name": "Python 3",
   "language": "python",
   "name": "python3"
  },
  "language_info": {
   "codemirror_mode": {
    "name": "ipython",
    "version": 3
   },
   "file_extension": ".py",
   "mimetype": "text/x-python",
   "name": "python",
   "nbconvert_exporter": "python",
   "pygments_lexer": "ipython3",
   "version": "3.8.5"
  }
 },
 "nbformat": 4,
 "nbformat_minor": 4
}
