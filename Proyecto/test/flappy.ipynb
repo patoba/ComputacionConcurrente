{
 "cells": [
  {
   "cell_type": "code",
   "execution_count": 1,
   "metadata": {},
   "outputs": [],
   "source": [
    "import neural_network as nn\n",
    "import bird as fb\n",
    "import genetic_algorithm as ga\n",
    "\n",
    "import numpy as np"
   ]
  },
  {
   "cell_type": "code",
   "execution_count": 9,
   "metadata": {},
   "outputs": [],
   "source": [
    "BIRDS = 30\n",
    "sigmoide = lambda x : 1 / (1 + np.exp(-x)) \n",
    "configuration_layers = [5, 6, 1]\n",
    "activation_functions = [sigmoide] * 2\n",
    "last_activation = lambda x : x[0] > 0.5\n",
    "nets = [nn.NeuralNet(configuration_layers, activation_functions, last_activation) for _ in range(BIRDS)]\n",
    "w = fb.World(nets)"
   ]
  },
  {
   "cell_type": "code",
   "execution_count": 10,
   "metadata": {},
   "outputs": [
    {
     "name": "stdout",
     "output_type": "stream",
     "text": [
      "19\r"
     ]
    }
   ],
   "source": [
    "fit = []\n",
    "for i in range(20):\n",
    "    print(i, end='\\r')\n",
    "    w.play()\n",
    "    fit.append(sum(w.fitness()))\n",
    "    new_gen = ga.new_generation(w)\n",
    "    w = fb.World(new_gen)"
   ]
  },
  {
   "cell_type": "code",
   "execution_count": 11,
   "metadata": {},
   "outputs": [],
   "source": [
    "final_birds = [b.network for b in w.birds]\n",
    "new_world = fb.World(final_birds)\n",
    "new_world.play(draw=True, path=\"./frames\")"
   ]
  }
 ],
 "metadata": {
  "kernelspec": {
   "display_name": "Python 3",
   "language": "python",
   "name": "python3"
  },
  "language_info": {
   "codemirror_mode": {
    "name": "ipython",
    "version": 3
   },
   "file_extension": ".py",
   "mimetype": "text/x-python",
   "name": "python",
   "nbconvert_exporter": "python",
   "pygments_lexer": "ipython3",
   "version": "3.8.6"
  }
 },
 "nbformat": 4,
 "nbformat_minor": 4
}
