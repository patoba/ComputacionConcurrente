{
 "cells": [
  {
   "cell_type": "markdown",
   "metadata": {},
   "source": [
    "Importamos las librerías necesarias:"
   ]
  },
  {
   "cell_type": "code",
   "execution_count": 11,
   "metadata": {},
   "outputs": [],
   "source": [
    "import numpy as np\n",
    "import matplotlib.pyplot as plt\n",
    "\n",
    "import bird_utils as fbu"
   ]
  },
  {
   "cell_type": "markdown",
   "metadata": {},
   "source": [
    "Definimos las funciones de activación que utilizaremos:"
   ]
  },
  {
   "cell_type": "code",
   "execution_count": 2,
   "metadata": {},
   "outputs": [],
   "source": [
    "def sigmoid(x):\n",
    "    return 1 / (1 + np.exp(-x))\n",
    "\n",
    "def binary(x):\n",
    "    return x[0] > 0.5"
   ]
  },
  {
   "cell_type": "markdown",
   "metadata": {},
   "source": [
    "Creamos el diccionario con todos los parámetros:"
   ]
  },
  {
   "cell_type": "code",
   "execution_count": 3,
   "metadata": {},
   "outputs": [],
   "source": [
    "                 # Parámetros físicos\n",
    "settings_dict = {'GRAVITY': -1,        # Aceleración de la gravedad\n",
    "                 'VX': -1,             # Velocidad horizontal del pájaro\n",
    "                 'DT': 0.1,            # Unidad de tiempo\n",
    "                 'MIN_VELOCITY': -1.2, # Velocidad vertical mínima del pájaro (qué tan rápido puede caer)\n",
    "    \n",
    "                 # Parámetros del mundo\n",
    "                 'TOP': 8,            # Altura del mundo\n",
    "                 'RIGHT': 10,         # Ancho del mundo\n",
    "                 'PIPE_GAP': 2.5,     # Tamaño del espacio entre tuberías\n",
    "                 'MINIMUM_HEIGHT': 2, # Mínima separación entre la tubería y el piso/techo\n",
    "                 'PIPE_WIDTH': 1,     # Ancho de las tuberías\n",
    "                 'BIRD_RADIUS': 0.3,  # Radio del pájaro\n",
    "                 'FLAP_SPEED': 1.3,   # Velocidad que adquiere el pájaro cuando aletea\n",
    "                 'MAX_STEPS': 5000,   # Máximo número de unidades de tiempo que pueden estar vivos los pájaros\n",
    "    \n",
    "                 # Recompensas y penalizaciones \n",
    "                 'DEATH_PENALTY': 0,   # Penalización por morir\n",
    "                 'ALIVE_REWARD': 0.05, # Recompensa por estar vivo una unidad de tiempo\n",
    "                 'PIPE_REWARD': 1,     # Recompensa por pasar una tubería\n",
    "    \n",
    "                 # Parámetros genéticos\n",
    "                 'MUTATION': 0.03,          # Porcentaje del genoma total de los hijos a mutar\n",
    "                 'CROSSOVER': 0.8,          # Porcentaje de la población nueva que será producto de crossover\n",
    "                 'ELITISM': 0.1,            # Porcentaje de la población que serán copias exactas de las mejores entidades\n",
    "                 'SELECTION': 'tournament', # Método de selección\n",
    "                 'CONTESTANTS': 8,          # Número de participantes en el torneo (en caso de SELECTION=tournament)\n",
    "                 \n",
    "                 # Parámetros de la red de los pájaros\n",
    "                 'LAYER_SIZES': [2,6,1],              # Tamaños de cada capa. Añadir más elementos para añadir más capas                 \n",
    "                 'ACTIVATION_FUNCTIONS': [sigmoid]*2, # Funciones de activación de cada capa, exceptuando la última\n",
    "                 'LAST_ACTIVATION': binary            # Función de activación de la última capa\n",
    "}"
   ]
  },
  {
   "cell_type": "markdown",
   "metadata": {},
   "source": [
    "Creamos el objeto entrenador:"
   ]
  },
  {
   "cell_type": "code",
   "execution_count": 5,
   "metadata": {},
   "outputs": [],
   "source": [
    "trainer = fbu.Trainer(settings=settings_dict, # configuración\n",
    "                      processes=4,            # número de procesos paralelos\n",
    "                      birds=40)               # número de pájaros"
   ]
  },
  {
   "cell_type": "markdown",
   "metadata": {},
   "source": [
    "Entrenamos los pájaros por un cierto número de generaciones:"
   ]
  },
  {
   "cell_type": "code",
   "execution_count": 8,
   "metadata": {},
   "outputs": [
    {
     "name": "stdout",
     "output_type": "stream",
     "text": [
      "Generation: 49 Average fitness: 282.95875000002536\r"
     ]
    }
   ],
   "source": [
    "birds, fitness_history = trainer.train(generations=50, verbose=True)"
   ]
  },
  {
   "cell_type": "markdown",
   "metadata": {},
   "source": [
    "El fitness de cada pájaro en cada generación está en `fitness_history`. Sacamos su promedio y graficamos:"
   ]
  },
  {
   "cell_type": "code",
   "execution_count": 13,
   "metadata": {},
   "outputs": [
    {
     "data": {
      "text/plain": [
       "Text(0, 0.5, 'Fitness promedio')"
      ]
     },
     "execution_count": 13,
     "metadata": {},
     "output_type": "execute_result"
    },
    {
     "data": {
      "image/png": "[encoded data removed]",
      "text/plain": [
       "<Figure size 720x576 with 1 Axes>"
      ]
     },
     "metadata": {
      "needs_background": "light"
     },
     "output_type": "display_data"
    }
   ],
   "source": [
    "means = np.mean(fitness_history, axis=1)\n",
    "\n",
    "fig, ax = plt.subplots(figsize=(10,8))\n",
    "ax.plot(means)\n",
    "ax.set_xlabel(\"Generación\")\n",
    "ax.set_ylabel(\"Fitness promedio\")"
   ]
  },
  {
   "cell_type": "markdown",
   "metadata": {},
   "source": [
    "Generamos un nuevo mundo con los mejores pájaros de la última generación:"
   ]
  },
  {
   "cell_type": "code",
   "execution_count": 14,
   "metadata": {},
   "outputs": [],
   "source": [
    "world = fbu.best_world(birds, settings_dict, n_birds=2)"
   ]
  },
  {
   "cell_type": "markdown",
   "metadata": {},
   "source": [
    "Simulamos el mundo y guardamos las imágenes en una carpeta:"
   ]
  },
  {
   "cell_type": "code",
   "execution_count": null,
   "metadata": {},
   "outputs": [],
   "source": [
    "world.play(draw=True, path=\"./frames\", max_steps=500)"
   ]
  }
 ],
 "metadata": {
  "kernelspec": {
   "display_name": "Python 3",
   "language": "python",
   "name": "python3"
  },
  "language_info": {
   "codemirror_mode": {
    "name": "ipython",
    "version": 3
   },
   "file_extension": ".py",
   "mimetype": "text/x-python",
   "name": "python",
   "nbconvert_exporter": "python",
   "pygments_lexer": "ipython3",
   "version": "3.8.6"
  }
 },
 "nbformat": 4,
 "nbformat_minor": 4
}