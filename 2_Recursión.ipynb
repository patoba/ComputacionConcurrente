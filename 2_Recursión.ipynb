{
  "nbformat": 4,
  "nbformat_minor": 0,
  "metadata": {
    "colab": {
      "name": "Recursión.ipynb",
      "provenance": [],
      "collapsed_sections": [],
      "include_colab_link": true
    },
    "kernelspec": {
      "name": "python3",
      "display_name": "Python 3"
    }
  },
  "cells": [
    {
      "cell_type": "markdown",
      "metadata": {
        "id": "view-in-github",
        "colab_type": "text"
      },
      "source": [
        "<a href=\"https://colab.research.google.com/github/patoba/LCD-CC-2020-I/blob/main/2_Recursi%C3%B3n.ipynb\" target=\"_parent\"><img src=\"https://colab.research.google.com/assets/colab-badge.svg\" alt=\"Open In Colab\"/></a>"
      ]
    },
    {
      "cell_type": "code",
      "metadata": {
        "id": "5UmBSVfljktb"
      },
      "source": [
        "import numpy as np"
      ],
      "execution_count": null,
      "outputs": []
    },
    {
      "cell_type": "markdown",
      "metadata": {
        "id": "En6YnlOwPnQX"
      },
      "source": [
        "En esta sesión veremos algunos ejemplos clásicos donde las recursiones juegan un papel muy importante."
      ]
    },
    {
      "cell_type": "markdown",
      "metadata": {
        "id": "_qJxBZctP9Up"
      },
      "source": [
        "**Sucesión de Fibonacci.** Es de las mas famosas dentro de las sucesiones definidas recursivamente. Los términos de la sucesión están dados por $f_0 = 0, f_1 = 1$ y $f_n = f_{n-1} + f_{n-2}$ para $n > 1$. Veamos algunos ejemplos relacionados con esta sucesión."
      ]
    },
    {
      "cell_type": "markdown",
      "metadata": {
        "id": "WY8y3GZbSM8O"
      },
      "source": [
        "*Ejemplo 1.* Muestra que cualesquiera dos números consecutivos en la sucesión de Fibonacci son primos relativos.\n",
        "\n",
        "Procederemos a probar esto por inducción, probaremos que para todo entero positivo $n$, se cumple que $(F_n, F_{n-1}) = 1$.\n",
        "- Caso base. Claramente, $(0, 1) = 1$, entonces la proposición se cumple para $n = 1$.\n",
        "- Hipótesis de inducción. La proposición se cumple para $n = k$, $(F_k, F_{k-1}) = 1$.\n",
        "- Paso inductivo. Usando que $(a,b) = (a-b, b)$ Notemos que \n",
        "\\begin{align}\n",
        "(F_{k+1}, F_k) &= (F_{k+1} - F_k, F_k) \\\\\n",
        "&= (F_{k-1}, F_k) \\\\\n",
        "&= 1\n",
        "\\end{align}\n",
        "Lo último por nuestra hipótesis de inducción. \n",
        "\n",
        "Concluimos que en efecto, $(F_n, F_{n-1}) = 1$ para todo entero positivo $n$."
      ]
    },
    {
      "cell_type": "markdown",
      "metadata": {
        "id": "aG-CxMW8YQcX"
      },
      "source": [
        "*Ejemplo 2.* Encuentra el residuo de $F_{100005}$ al ser dividido entre $23$.\n",
        "\n",
        "Notemos que como cada término depende únicamente de los dos anteriores, al cosiderar la sucesión dada por los residuos de la de Fibonacci, como hay $23 \\cdot 23$ parejas posibles de residuos módulo $23$, tendremos que la sucesión de los residuos se va a ciclar a partir de cierto momento. Queda como ejercicio probar que esta sucesión se cicla desde el principio. Encontrar la longitud del periodo de esta secuencia nos será útil para resolver este problema, pues si el periodo es $p$ únicamente restaría encontrar el residuo de $100005$ módulo $p$.\n",
        "\n",
        "Encontremos entonces el periodo de la sucesión de los residuos módulo $23$."
      ]
    },
    {
      "cell_type": "markdown",
      "metadata": {
        "id": "_gHCYn9yQY5I"
      },
      "source": [
        "Al ver módulo $5$ se tiene :\n",
        "0, 1, 1, 2, 3, 0, 3, 3, 1, 4, 0, 4, 4, 3, 2, 0, 2, 2, 4, 1, 0, 1, "
      ]
    },
    {
      "cell_type": "code",
      "metadata": {
        "id": "h5tV6HIVcHhi",
        "colab": {
          "base_uri": "https://localhost:8080/",
          "height": 34
        },
        "outputId": "24411798-810b-4fdb-dbcf-73ac15434c72"
      },
      "source": [
        "Residues = [0, 1]\n",
        "cur = (1,1)\n",
        "\n",
        "while(cur!=(1,0)):\n",
        "  Residues.append(cur[1])\n",
        "  cur = (cur[1], (cur[0] + cur[1])%128)\n",
        "\n",
        "print(len(Residues))"
      ],
      "execution_count": null,
      "outputs": [
        {
          "output_type": "stream",
          "text": [
            "192\n"
          ],
          "name": "stdout"
        }
      ]
    },
    {
      "cell_type": "markdown",
      "metadata": {
        "id": "KNHAVLDCkkWf"
      },
      "source": [
        "Ahora solo resta encontrar el residuo de $100005$ módulo $48$, y tomar el respectivo residuo de la sucesión. "
      ]
    },
    {
      "cell_type": "code",
      "metadata": {
        "id": "XayK76EBkweQ",
        "colab": {
          "base_uri": "https://localhost:8080/",
          "height": 34
        },
        "outputId": "3c4e74ce-cf8a-48cb-a13b-4b071c549637"
      },
      "source": [
        "print(\"El residuo del 100005-ésimo número de Fibonacci módulo 23 es:\", Residues[100005 % 48])"
      ],
      "execution_count": null,
      "outputs": [
        {
          "output_type": "stream",
          "text": [
            "El residuo del 100005-ésimo número de Fibonacci módulo 23 es: 21\n"
          ],
          "name": "stdout"
        }
      ]
    },
    {
      "cell_type": "markdown",
      "metadata": {
        "id": "i9e5iNP0shCK"
      },
      "source": [
        "**Torres de Hanoi.** Consideremos el problema de las torres de Hanoi con $n$ discos. Se tienen $n$ discos de distintos tamaños y tres postes verticales donde se pueden poner estos discos. Inicialmente, se tienen todos los discos en el primer poste ordenados del más chico al más grande, con el más grande en la base. En cada paso se puede mover un disco que se encuentre hasta arriba de algún poste a cualquier otro poste siempre y cuando se coloque en un poste vacío o sobre un disco de mayor tamaño. Determina la menor cantidad de pasos necesarios para mover todos los discos del primer poste al tercero.\n",
        "\n",
        "Veamos qué pasa cuando $n$ es chico. \n",
        "\n",
        "Se puede jugar en https://www.mathsisfun.com/games/towerofhanoi.html\n",
        "\n",
        "- Si $n = 1$ es evidente que en un movimiento podemos lograr lo deseado.  \n",
        "- Para $n = 2$, para poder poner el disco más grande en el tercer poste necesitamos que el disco más chico esté en el segundo poste, es decir, necesitamos al menos tres movimientos, uno para mover el disco chico al segundo poste, otro para mover el grande al tercer poste, y finalmente otro para poner el disco pequeño arriba del grande. \n",
        "- Para $n = 3$, se sigue un razonamiento similar. Necesitamos que los dos discos más chicos estén en el segundo poste (por el caso anterior requerimos al menos $3$ movimientos para esto), para después mover el disco más grande al tercer poste (un movimiento), y luego poner los discos más chicos encima de éste (otros $3$ movimientos), lo que nos da un total de $7$ movimientos.\n",
        "\n",
        "Analizando estos primeros casos, podemos llegar a la conjetura de que el mínimo número de pasos necesarios para lograr lo deseado son $2^n - 1$. Probemos esto por inducción.\n",
        "\n",
        "- Caso base. Los mencionados anteriormente.\n",
        "- Hipótesis de inducción. Para $n = k$, el menor número de pasos necesarios para mover todos los discos al tercer poste son $2^k - 1$.\n",
        "- Paso inductivo. Con $k+1$ discos. Para poder mover el disco más grande al tercer poste, es necesario que todos los demás estén en el segundo poste, lo que por hipótesis de inducción requiere al menos $2^k -1$ pasos. Posteriormente se requiere al menos un paso para mover el disco más grande al tercer poste, y para concluir, como todos los demás discos tuvieron que estar en el segundo poste, moverlos al tercero nos tomará otros $2^k - 1$ pasos. Sumando, tenemos que se necesitan al menos $(2^k - 1) + 1 + (2^k - 1) = 2^{k+1} - 1$ pasos para lograr pasar todos los discos al tercer poste. Notemos que este paso inductivo también nos dice cómo ir haciendo los pasos para mostrar que $2^{k+1} - 1$ es suficiente para poder llegar al estado deseado.\n",
        "\n",
        "Concluimos que el menor número de pasos para poder pasar los $n$ discos del primer al tercer poste son $2^n - 1$.\n",
        "\n",
        "Ahora, veamos cómo se puede hacer un código que resuelva este problema en la menor cantidad de pasos posible. Para ello, vamos a numerar los discos del $0$ al $n-1$ según su tamaño, y los postes serán representados por listas de algunos de estos números."
      ]
    },
    {
      "cell_type": "code",
      "metadata": {
        "id": "XsDjqS7K_IDz",
        "colab": {
          "base_uri": "https://localhost:8080/",
          "height": 521
        },
        "outputId": "fe5ca390-c4e0-4e45-9c32-dd360ad21412"
      },
      "source": [
        "P = [[4, 3, 2, 1], [], []]\n",
        "steps = 0\n",
        "\n",
        "# (x, y) es el intervalo de discos, a el poste en el que están los discos 1,2,...,k y b al que se quieren mover\n",
        "def solve(x, y, a, b):\n",
        "  global steps\n",
        "  if(x == y):\n",
        "    P[a].pop()\n",
        "    P[b].append(x)\n",
        "    steps += 1\n",
        "    print(\"Paso\", steps, ':', P[0], \"       \", P[1], \"      \", P[2], '\\n')\n",
        "  else:\n",
        "    solve(x, y-1, a, 3-a-b)\n",
        "    P[a].pop()\n",
        "    P[b].append(y)\n",
        "    steps += 1\n",
        "    print(\"Paso\", steps, ':', P[0], \"         \", P[1], \"          \", P[2], '\\n')\n",
        "    solve(x, y-1, 3-a-b, b)\n",
        "  return\n",
        "\n",
        "solve(1, 4, 0, 2)\n"
      ],
      "execution_count": null,
      "outputs": [
        {
          "output_type": "stream",
          "text": [
            "Paso 1 : [4, 3, 2]         [1]        [] \n",
            "\n",
            "Paso 2 : [4, 3]           [1]            [2] \n",
            "\n",
            "Paso 3 : [4, 3]         []        [2, 1] \n",
            "\n",
            "Paso 4 : [4]           [3]            [2, 1] \n",
            "\n",
            "Paso 5 : [4, 1]         [3]        [2] \n",
            "\n",
            "Paso 6 : [4, 1]           [3, 2]            [] \n",
            "\n",
            "Paso 7 : [4]         [3, 2, 1]        [] \n",
            "\n",
            "Paso 8 : []           [3, 2, 1]            [4] \n",
            "\n",
            "Paso 9 : []         [3, 2]        [4, 1] \n",
            "\n",
            "Paso 10 : [2]           [3]            [4, 1] \n",
            "\n",
            "Paso 11 : [2, 1]         [3]        [4] \n",
            "\n",
            "Paso 12 : [2, 1]           []            [4, 3] \n",
            "\n",
            "Paso 13 : [2]         [1]        [4, 3] \n",
            "\n",
            "Paso 14 : []           [1]            [4, 3, 2] \n",
            "\n",
            "Paso 15 : []         []        [4, 3, 2, 1] \n",
            "\n"
          ],
          "name": "stdout"
        }
      ]
    },
    {
      "cell_type": "markdown",
      "metadata": {
        "id": "O8EXexcHGtsJ"
      },
      "source": [
        "Ahora, algunos ejercicios para practicar ideas de recursión.\n",
        "\n",
        "1. (Relacionado con conjetura de Collatz) Considera la función $f : \\mathbb{Z}^{+} \\rightarrow \\mathbb{Z}^{+}$ dada por $f(n) = \\frac{n}{2}$ si $n$ es par, y $f(n) = 3n + 1$ si $n$ es impar. Escribe un código que permita comprobar que al iterar $f$, en algún momento llegamos al número $1$ para enteros menores a $10^9$. Por ejemplo, si empezamos con $n = 6$, $f(6) = 3$, $f(3) = 10$, $f(10) = 5$, $f(5) = 16$, y $f(f(f(f(16)))) = 1$, es decir, al iterar $f$ $8$ veces llegamos a $1$. Di en cuántas iteraciones se llega al 1.\n",
        "\n",
        "2. Encuentra el residuo de $F_{102030405060708090}$ al ser dividido por $9! = 362880$. \n",
        "  \n",
        "  Nota que si se siguen exactamente los mismos pasos vistos en clase potencialmente podrían haber $(9!)^2 = 131681894400$ parejas posibles de residuos, lo que ocuparía mucho tiempo de ejecución en el programa, y computar los primeros $102030405060708090$ residuos también es costoso. \n",
        "\n",
        "  ¿Cómo optimizarlo? Hint : Recuerda el teorema chino del residuo.\n",
        "\n",
        "\n",
        "3. Muestra que al considerar la sucesión de Fibonacci módulo $n$, la sucesión obtenida se cicla desde el principio.\n",
        "\n",
        "4. (Reto, no obligatorio). Muestra que los ciclos de menor longitud en la sucesión de Fibonacci módulo $n$ tienen $1, 2$ o $4$ ceros.\n",
        "\n"
      ]
    },
    {
      "cell_type": "markdown",
      "metadata": {
        "id": "yu4YprXGbj4y"
      },
      "source": [
        "*Ejercicio 1.* Escribe aquí el código solicitado. (Como sugerencia, define una función para $f$ y trabaja a partir de ella)."
      ]
    },
    {
      "cell_type": "code",
      "metadata": {
        "id": "j5IRvEOXbyYc"
      },
      "source": [
        ""
      ],
      "execution_count": null,
      "outputs": []
    },
    {
      "cell_type": "markdown",
      "metadata": {
        "id": "t81lwhskbz5c"
      },
      "source": [
        "*Ejercicio 2.* Notemos que $9! = 2^7 \\cdot 3^4 \\cdot 5 \\cdot 7$, recordemos que el teorema chino del residuo nos permite rescatar la congruencia módulo $9!$ sabiendo las congruencias módulo $2^7, 3^4, 5$ y $7$ de manera individual. Procedamos a encontrar estas congruencias.\n",
        "\n",
        "- Escribe un código que nos diga el residuo de $F_{102030405060708090}$ al ser dividido entre $2^7 = 128$."
      ]
    },
    {
      "cell_type": "code",
      "metadata": {
        "id": "a4Qmo4k3qgRM"
      },
      "source": [
        ""
      ],
      "execution_count": null,
      "outputs": []
    },
    {
      "cell_type": "markdown",
      "metadata": {
        "id": "5NmB2WVTqg73"
      },
      "source": [
        "- Escribe un código que nos diga el residuo de $F_{102030405060708090}$ al ser dividido entre $3^4 = 81$."
      ]
    },
    {
      "cell_type": "code",
      "metadata": {
        "id": "3NfMLVXkqqEm"
      },
      "source": [
        ""
      ],
      "execution_count": null,
      "outputs": []
    },
    {
      "cell_type": "markdown",
      "metadata": {
        "id": "nbKvr4j9qzP1"
      },
      "source": [
        "- Escribe un código que nos diga el residuo de $F_{102030405060708090}$ al ser dividido entre $5$."
      ]
    },
    {
      "cell_type": "code",
      "metadata": {
        "id": "i65R43Wjq1kq"
      },
      "source": [
        ""
      ],
      "execution_count": null,
      "outputs": []
    },
    {
      "cell_type": "markdown",
      "metadata": {
        "id": "Si5WKk6eq36f"
      },
      "source": [
        "- Escribe un código que nos diga el residuo de $F_{102030405060708090}$ al ser dividido entre $7$."
      ]
    },
    {
      "cell_type": "code",
      "metadata": {
        "id": "6lzWFnftq9lB"
      },
      "source": [
        ""
      ],
      "execution_count": null,
      "outputs": []
    },
    {
      "cell_type": "markdown",
      "metadata": {
        "id": "VQbLOMs_q-W0"
      },
      "source": [
        "- Se tiene un sistema de congruencias de la forma \n",
        "\\begin{align}\n",
        "x &\\equiv a_1 \\pmod{128} \\\\\n",
        "x &\\equiv a_2 \\pmod{81} \\\\\n",
        "x &\\equiv a_3 \\pmod{5} \\\\\n",
        "x &\\equiv a_4 \\pmod{7} \\\\\n",
        "\\end{align}\n",
        "\n",
        "Encuentra la solución a dicho sistema de congruencias y concluye que este es el residuo buscado. Escribe tu respuesta en el siguiente código. Un ejemplo de cómo resolver el sistema de congruencias: \n",
        "\\begin{align}\n",
        "x &\\equiv 1 \\pmod{8} \\rightarrow x = 8k + 1\\\\\n",
        "x &\\equiv 2 \\pmod{5} \\rightarrow 8k+1 \\equiv 2 \\pmod{5} \\rightarrow 8k \\equiv 1 \\pmod{5}\\\\\n",
        "&\\ k \\equiv 2 \\pmod{5} \\rightarrow k = 5m + 2 \\rightarrow x = 8(5m+2) + 1 = 40m+17\n",
        "\\end{align}\n",
        "Entonces $x \\equiv 17 \\pmod{40}$. Pueden consultar más sobre el Teorema Chino del Residuo en https://en.wikipedia.org/wiki/Chinese_remainder_theorem#Existence_(constructive_proof) (los manda a la sección donde muestra cómo resolver este tipo de sistemas de congruencias)."
      ]
    },
    {
      "cell_type": "code",
      "metadata": {
        "id": "D20qirNUr5rq",
        "colab": {
          "base_uri": "https://localhost:8080/",
          "height": 34
        },
        "outputId": "73c453ca-9757-4aa6-f1ca-60c5fc74c73c"
      },
      "source": [
        "print(\"El residuo buscado es : \", )"
      ],
      "execution_count": null,
      "outputs": [
        {
          "output_type": "stream",
          "text": [
            "El residuo buscado es : \n"
          ],
          "name": "stdout"
        }
      ]
    },
    {
      "cell_type": "markdown",
      "metadata": {
        "id": "RhxEjnRSrlLC"
      },
      "source": [
        "*Ejercicio 3.* Sube aquí una foto de tu prueba, o escríbela."
      ]
    },
    {
      "cell_type": "markdown",
      "metadata": {
        "id": "cmFLZHRmruc5"
      },
      "source": [
        "(Aquí va la prueba del ejercicio 3)"
      ]
    }
  ]
}